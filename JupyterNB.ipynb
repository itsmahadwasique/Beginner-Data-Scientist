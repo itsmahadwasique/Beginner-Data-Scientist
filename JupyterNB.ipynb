{
 "cells": [
  {
   "cell_type": "markdown",
   "id": "1d17acb6-67c5-4d14-b488-cfee999e17c7",
   "metadata": {},
   "source": [
    "# My Jupyter Notebook on IBM Watson Studio"
   ]
  },
  {
   "cell_type": "markdown",
   "id": "a3ad43fd-9b70-44c2-b3da-41274d1c28f2",
   "metadata": {},
   "source": [
    "**Mahad Wasique**<br/>Fresh Graduate"
   ]
  },
  {
   "cell_type": "markdown",
   "id": "7c22563b-2b12-4353-b611-945aaa69af2b",
   "metadata": {},
   "source": [
    "*I am interested in data science because I love to play with numbers*"
   ]
  },
  {
   "cell_type": "markdown",
   "id": "c89025fe-62c1-4d0a-a637-9ce9faac6752",
   "metadata": {},
   "source": [
    "### This code illustrates the average of two numbers a & b"
   ]
  },
  {
   "cell_type": "code",
   "execution_count": 4,
   "id": "8453d494-79dc-4f6b-86e0-2d8a25057f3c",
   "metadata": {},
   "outputs": [
    {
     "name": "stdin",
     "output_type": "stream",
     "text": [
      "Enter first number:  23\n",
      "Enter second number:  24\n"
     ]
    },
    {
     "name": "stdout",
     "output_type": "stream",
     "text": [
      "The average of numbers = 23.50\n"
     ]
    }
   ],
   "source": [
    "a = float(input('Enter first number: '))\n",
    "b = float(input('Enter second number: '))\n",
    "avg = (a + b) / 2\n",
    "print('The average of numbers = %0.2f' %avg)\n"
   ]
  },
  {
   "cell_type": "markdown",
   "id": "c0021931-9da2-4c99-9e8d-3f145784e7dc",
   "metadata": {},
   "source": [
    "1. First item \n",
    "2. Second item\n",
    "3. Third item\n",
    "* One\n",
    "* Two\n",
    "<br/>[Google](https://www.google.com/)"
   ]
  },
  {
   "cell_type": "code",
   "execution_count": null,
   "id": "e162498d-e403-4b0b-be91-cce26820f284",
   "metadata": {},
   "outputs": [],
   "source": []
  }
 ],
 "metadata": {
  "kernelspec": {
   "display_name": "Python",
   "language": "python",
   "name": "conda-env-python-py"
  },
  "language_info": {
   "codemirror_mode": {
    "name": "ipython",
    "version": 3
   },
   "file_extension": ".py",
   "mimetype": "text/x-python",
   "name": "python",
   "nbconvert_exporter": "python",
   "pygments_lexer": "ipython3",
   "version": "3.7.12"
  }
 },
 "nbformat": 4,
 "nbformat_minor": 5
}
